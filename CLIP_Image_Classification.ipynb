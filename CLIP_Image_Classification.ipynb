{
  "nbformat": 4,
  "nbformat_minor": 0,
  "metadata": {
    "colab": {
      "provenance": [],
      "gpuType": "T4",
      "authorship_tag": "ABX9TyP2Qes2TezLedFxO8fNQVAX",
      "include_colab_link": true
    },
    "kernelspec": {
      "name": "python3",
      "display_name": "Python 3"
    },
    "language_info": {
      "name": "python"
    },
    "accelerator": "GPU"
  },
  "cells": [
    {
      "cell_type": "markdown",
      "metadata": {
        "id": "view-in-github",
        "colab_type": "text"
      },
      "source": [
        "<a href=\"https://colab.research.google.com/github/amir-asari/CLIP-Basic/blob/main/CLIP_Image_Classification.ipynb\" target=\"_parent\"><img src=\"https://colab.research.google.com/assets/colab-badge.svg\" alt=\"Open In Colab\"/></a>"
      ]
    },
    {
      "cell_type": "markdown",
      "source": [
        "### Import necessary libraries"
      ],
      "metadata": {
        "id": "ryuFyFr1v2fW"
      }
    },
    {
      "cell_type": "code",
      "execution_count": 4,
      "metadata": {
        "id": "VJjHsK4HugP9"
      },
      "outputs": [],
      "source": [
        "import torch\n",
        "from torchvision.datasets import CIFAR10\n",
        "from transformers import CLIPProcessor, CLIPModel\n",
        "from PIL import Image\n",
        "import matplotlib.pyplot as plt"
      ]
    },
    {
      "cell_type": "markdown",
      "source": [
        "### ==============================================================================\n",
        "### STEP 1: Load Model, Processor, and Dataset\n",
        "### ==============================================================================\n",
        "This step loads the pre-trained model, its processor, and the dataset.\n",
        "This is the most time-consuming part and should only be run once."
      ],
      "metadata": {
        "id": "LSXgeQAHxc7h"
      }
    },
    {
      "cell_type": "code",
      "source": [
        "# Check if a GPU is available and set the device accordingly\n",
        "device = \"cuda\" if torch.cuda.is_available() else \"cpu\"\n",
        "print(f\"Using device: {device}\")\n",
        "\n",
        "# --- Load Model and Processor ---\n",
        "# Load the pre-trained CLIP model and its processor from Hugging Face\n",
        "print(\"Loading CLIP model and processor...\")\n",
        "try:\n",
        "    model = CLIPModel.from_pretrained(\"openai/clip-vit-base-patch32\").to(device)\n",
        "    processor = CLIPProcessor.from_pretrained(\"openai/clip-vit-base-patch32\")\n",
        "    print(\"CLIP model and processor loaded successfully.\")\n",
        "except Exception as e:\n",
        "    print(f\"Error loading model or processor: {e}\")\n",
        "    model = None # Set to None on failure\n",
        "\n",
        "# --- Load Dataset ---\n",
        "# Download and load the CIFAR-10 training dataset\n",
        "print(\"\\nLoading CIFAR-10 dataset...\")\n",
        "try:\n",
        "    dataset = CIFAR10(root=\"./data\", train=True, download=True)\n",
        "    print(\"CIFAR-10 dataset loaded successfully.\")\n",
        "except Exception as e:\n",
        "    print(f\"Error loading CIFAR-10 dataset: {e}\")\n",
        "    dataset = None # Set to None on failure"
      ],
      "metadata": {
        "colab": {
          "base_uri": "https://localhost:8080/"
        },
        "id": "aWK4YrdMxl1a",
        "outputId": "2955d8b2-665a-4ace-c671-599e8f770f35"
      },
      "execution_count": 5,
      "outputs": [
        {
          "output_type": "stream",
          "name": "stdout",
          "text": [
            "Using device: cuda\n",
            "Loading CLIP model and processor...\n",
            "CLIP model and processor loaded successfully.\n",
            "\n",
            "Loading CIFAR-10 dataset...\n",
            "CIFAR-10 dataset loaded successfully.\n"
          ]
        }
      ]
    },
    {
      "cell_type": "markdown",
      "source": [
        "### ==============================================================================\n",
        "### STEP 2: Define the Classification Function\n",
        "### ==============================================================================\n",
        "This function now takes the model, processor, and dataset as arguments,\n",
        "making it much faster to call multiple times."
      ],
      "metadata": {
        "id": "Sc5CRBJex7U_"
      }
    },
    {
      "cell_type": "code",
      "source": [
        "def classify_cifar_image(model, processor, dataset, image_index=0):\n",
        "    \"\"\"\n",
        "    Uses a pre-loaded CLIP model to classify a CIFAR-10 image.\n",
        "\n",
        "    Args:\n",
        "        model (CLIPModel): The pre-loaded CLIP model.\n",
        "        processor (CLIPProcessor): The pre-loaded CLIP processor.\n",
        "        dataset (Dataset): The pre-loaded CIFAR-10 dataset.\n",
        "        image_index (int): The index of the image to classify.\n",
        "    \"\"\"\n",
        "    if not all([model, processor, dataset]):\n",
        "        print(\"Model, processor, or dataset not loaded. Cannot proceed.\")\n",
        "        return\n",
        "\n",
        "    # --- 1. Get Image and Labels ---\n",
        "    image, label_id = dataset[image_index]\n",
        "    class_names = dataset.classes\n",
        "    print(f\"\\n--- Classifying Image at Index: {image_index} ---\")\n",
        "    print(f\"Actual label: {class_names[label_id]}\")\n",
        "\n",
        "    # --- 2. Prepare Inputs ---\n",
        "    text_prompts = [f\"a photo of a {class_name}\" for class_name in class_names]\n",
        "    inputs = processor(\n",
        "        text=text_prompts,\n",
        "        images=image,\n",
        "        return_tensors=\"pt\",\n",
        "        padding=True\n",
        "    ).to(device)\n",
        "\n",
        "    # --- 3. Perform Inference ---\n",
        "    with torch.no_grad():\n",
        "        outputs = model(**inputs)\n",
        "        logits_per_image = outputs.logits_per_image\n",
        "        probs = logits_per_image.softmax(dim=1)\n",
        "    print(\"Inference complete.\")\n",
        "\n",
        "    # --- 4. Display Results ---\n",
        "    probs_list = probs.cpu().numpy().flatten().tolist()\n",
        "    results = {class_names[i]: probs_list[i] for i in range(len(class_names))}\n",
        "    predicted_label = max(results, key=results.get)\n",
        "\n",
        "    print(f\"Predicted Label: {predicted_label} (Probability: {results[predicted_label]:.4f})\")\n",
        "\n",
        "    # Display the image with its actual and predicted labels\n",
        "    plt.figure(figsize=(6, 6))\n",
        "    plt.imshow(image)\n",
        "    plt.title(f\"Actual: {class_names[label_id]}\\nPredicted: {predicted_label}\", fontsize=14)\n",
        "    plt.axis(\"off\")\n",
        "    plt.show()"
      ],
      "metadata": {
        "id": "kSho6IfKyHKd"
      },
      "execution_count": 6,
      "outputs": []
    },
    {
      "cell_type": "markdown",
      "source": [
        "### ==============================================================================\n",
        "### STEP 3: Run Classification\n",
        "### ==============================================================================\n",
        "This is the execution step.\n",
        "You can easily change the image_index and re-run only this step\n",
        "to test different images quickly.\n"
      ],
      "metadata": {
        "id": "XYNGbaWLySxl"
      }
    },
    {
      "cell_type": "code",
      "source": [
        "# Set the index for the image you want to classify.\n",
        "image_to_classify_index = 15\n",
        "\n",
        "# Call the function to perform the classification.\n",
        "classify_cifar_image(model, processor, dataset, image_index=image_to_classify_index)"
      ],
      "metadata": {
        "colab": {
          "base_uri": "https://localhost:8080/",
          "height": 631
        },
        "id": "OzStqHfwypMV",
        "outputId": "dc6b0636-9626-4520-b606-b2e49efbad95"
      },
      "execution_count": 7,
      "outputs": [
        {
          "output_type": "stream",
          "name": "stdout",
          "text": [
            "\n",
            "--- Classifying Image at Index: 15 ---\n",
            "Actual label: truck\n",
            "Inference complete.\n",
            "Predicted Label: truck (Probability: 0.9909)\n"
          ]
        },
        {
          "output_type": "display_data",
          "data": {
            "text/plain": [
              "<Figure size 600x600 with 1 Axes>"
            ],
            "image/png": "[encoded data removed]"
          },
          "metadata": {}
        }
      ]
    },
    {
      "cell_type": "markdown",
      "source": [
        "### ==============================================================================\n",
        "### STEP 4: Example with another image\n",
        "### ==============================================================================\n",
        "Classifying another image is now fast, as we just call the function again."
      ],
      "metadata": {
        "id": "gHANTJ93yjFd"
      }
    },
    {
      "cell_type": "code",
      "source": [
        "classify_cifar_image(model, processor, dataset, image_index=1234)"
      ],
      "metadata": {
        "colab": {
          "base_uri": "https://localhost:8080/",
          "height": 631
        },
        "id": "KJhUvNU63UbK",
        "outputId": "471dea5f-34fc-45ad-ba2a-b2eccdc874da"
      },
      "execution_count": 9,
      "outputs": [
        {
          "output_type": "stream",
          "name": "stdout",
          "text": [
            "\n",
            "--- Classifying Image at Index: 1234 ---\n",
            "Actual label: airplane\n",
            "Inference complete.\n",
            "Predicted Label: airplane (Probability: 0.8535)\n"
          ]
        },
        {
          "output_type": "display_data",
          "data": {
            "text/plain": [
              "<Figure size 600x600 with 1 Axes>"
            ],
            "image/png": "[encoded data removed]"
          },
          "metadata": {}
        }
      ]
    }
  ]
}